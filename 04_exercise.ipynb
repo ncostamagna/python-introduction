{
 "cells": [
  {
   "cell_type": "code",
   "execution_count": 9,
   "id": "7af74996",
   "metadata": {},
   "outputs": [
    {
     "name": "stdout",
     "output_type": "stream",
     "text": [
      "(1, 2, 'a', 4.5)\n"
     ]
    }
   ],
   "source": [
    "suma(1,2,'a',4.5)"
   ]
  },
  {
   "cell_type": "code",
   "execution_count": 8,
   "id": "1dcba3d6",
   "metadata": {},
   "outputs": [
    {
     "name": "stdout",
     "output_type": "stream",
     "text": [
      "()\n"
     ]
    }
   ],
   "source": [
    "# funcion suma que reciba n parametros de tipo numerico\n",
    "# si recibe algun valor que no sea numerico debe generar error\n",
    "# si no recibe ningun valor, debe generar error tambien\n",
    "\n",
    "suma()"
   ]
  },
  {
   "cell_type": "code",
   "execution_count": null,
   "id": "3b2154e3",
   "metadata": {},
   "outputs": [],
   "source": [
    "def suma(*numeros):\n",
    "    if len(numeros) == 0:\n",
    "        print (\"Debe sumarse por lo menos un valor\")\n",
    "    else:        \n",
    "        n = 0\n",
    "        for numero in numeros:\n",
    "            try:\n",
    "                n += numero\n",
    "            except TypeError:\n",
    "                print (\"No se pueden sumar 'str'\")\n",
    "        print (n)"
   ]
  },
  {
   "cell_type": "code",
   "execution_count": 183,
   "id": "98e74750",
   "metadata": {},
   "outputs": [
    {
     "name": "stdout",
     "output_type": "stream",
     "text": [
      "20\n"
     ]
    }
   ],
   "source": [
    "suma (4,2,8,6)"
   ]
  },
  {
   "cell_type": "code",
   "execution_count": 184,
   "id": "47960fc3",
   "metadata": {},
   "outputs": [
    {
     "name": "stdout",
     "output_type": "stream",
     "text": [
      "No se pueden sumar 'str'\n",
      "29\n"
     ]
    }
   ],
   "source": [
    "suma (4,8,9,\"h\",8)"
   ]
  },
  {
   "cell_type": "code",
   "execution_count": 185,
   "id": "7c10ed46",
   "metadata": {},
   "outputs": [
    {
     "name": "stdout",
     "output_type": "stream",
     "text": [
      "Debe sumarse por lo menos un valor\n"
     ]
    }
   ],
   "source": [
    "suma()"
   ]
  }
 ],
 "metadata": {
  "kernelspec": {
   "display_name": "Python 3",
   "language": "python",
   "name": "python3"
  },
  "language_info": {
   "codemirror_mode": {
    "name": "ipython",
    "version": 3
   },
   "file_extension": ".py",
   "mimetype": "text/x-python",
   "name": "python",
   "nbconvert_exporter": "python",
   "pygments_lexer": "ipython3",
   "version": "3.8.8"
  }
 },
 "nbformat": 4,
 "nbformat_minor": 5
}
