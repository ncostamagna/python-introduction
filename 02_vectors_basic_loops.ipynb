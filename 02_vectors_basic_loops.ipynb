{
 "cells": [
  {
   "cell_type": "markdown",
   "id": "af186e5e",
   "metadata": {},
   "source": [
    "# Vectores"
   ]
  },
  {
   "cell_type": "markdown",
   "id": "e4e14fba",
   "metadata": {},
   "source": [
    "Podemos guardar una secuencia de valores"
   ]
  },
  {
   "cell_type": "code",
   "execution_count": 25,
   "id": "155a5635",
   "metadata": {},
   "outputs": [
    {
     "name": "stdout",
     "output_type": "stream",
     "text": [
      "[1, 2, 3, 4, 5, 6]\n",
      "<class 'list'>\n",
      "[]\n",
      "<class 'list'>\n",
      "[]\n",
      "<class 'list'>\n",
      "[1]\n",
      "<class 'list'>\n",
      "[1, 2, 3, 4, 5, 6, 3, 2, 1, 2, 3, 2, 1]\n",
      "<class 'list'>\n",
      "[1, '2', 3, 'sarasa', 6, 3.12, 1, 2, True, 1]\n",
      "<class 'list'>\n"
     ]
    }
   ],
   "source": [
    "my1Vec = [1,2,3,4,5,6]\n",
    "print(my1Vec)\n",
    "print(type(my1Vec))\n",
    "\n",
    "my2Vect = []\n",
    "print(my2Vect)\n",
    "print(type(my2Vect))\n",
    "\n",
    "my3Vec = list()\n",
    "print(my3Vec)\n",
    "print(type(my3Vec))\n",
    "\n",
    "my4Vec = list([1])\n",
    "print(my4Vec)\n",
    "print(type(my4Vec))\n",
    "\n",
    "my5Vec = [1,2,3,4,5,6,3,2,1,2,3,2,1]\n",
    "print(my5Vec)\n",
    "print(type(my5Vec))\n",
    "\n",
    "my6Vec = [1,\"2\",3,\"sarasa\",6,3.12,1,2,True,1]\n",
    "print(my6Vec)\n",
    "print(type(my6Vec))"
   ]
  },
  {
   "cell_type": "markdown",
   "id": "4026f4cd",
   "metadata": {},
   "source": [
    "# Bucle for"
   ]
  },
  {
   "cell_type": "markdown",
   "id": "cbec19d4",
   "metadata": {},
   "source": [
    "Nos ayuda a iterar con los vectores"
   ]
  },
  {
   "cell_type": "code",
   "execution_count": 39,
   "id": "32c4f33d",
   "metadata": {},
   "outputs": [
    {
     "name": "stdout",
     "output_type": "stream",
     "text": [
      "Edad: 29 - Es mayor - Iteraciion: 1\n",
      "Edad: 35 - Es mayor - Iteraciion: 2\n",
      "Edad: 53 - Es mayor - Iteraciion: 3\n",
      "Edad: 23 - Es mayor - Iteraciion: 4\n",
      "Edad: 90 - Es mayor - Iteraciion: 5\n",
      "Edad: 10 - Es menor - Iteraciion: 6\n",
      "Edad: 100 - Es mayor - Iteraciion: 7\n",
      "Edad: 78 - Es mayor - Iteraciion: 8\n"
     ]
    }
   ],
   "source": [
    "\n",
    "ages = [29,35,53,23,90,10,100,78]\n",
    "i = 0\n",
    "\n",
    "for a in ages:\n",
    "    i = i +1\n",
    "    desc = \"\"\n",
    "    if a >= 18:\n",
    "        desc = \"Es mayor\"\n",
    "    else:\n",
    "        desc = \"Es menor\"\n",
    "        \n",
    "    print(\"Edad: {} - {} - Iteraciion: {}\".format(a,desc, i))\n",
    "    \n",
    "    "
   ]
  },
  {
   "cell_type": "code",
   "execution_count": 56,
   "id": "6c888e85",
   "metadata": {},
   "outputs": [
    {
     "name": "stdout",
     "output_type": "stream",
     "text": [
      "29\n",
      "23\n",
      "8\n",
      "78\n"
     ]
    }
   ],
   "source": [
    "print(ages[0]) # Primer indice\n",
    "print(ages[3]) # Cuarto indice\n",
    "# print(ages[15]) Va a generar error porque el indice 15 no existe en el vector\n",
    "\n",
    "print(len(ages)) # Tamaño del vector (en este caso es 8)\n",
    "print(ages[len(ages) -1 ]) # Los vectores siempre inicializan en 0, tengo que trear el tamaño del vector - 1\n",
    "\n"
   ]
  },
  {
   "cell_type": "markdown",
   "id": "3e10938a",
   "metadata": {},
   "source": [
    "\n",
    "# Bucle while\n"
   ]
  },
  {
   "cell_type": "markdown",
   "id": "adceba0b",
   "metadata": {},
   "source": [
    "Nos ayuda a iterar con los vectores"
   ]
  },
  {
   "cell_type": "code",
   "execution_count": 58,
   "id": "857debc6",
   "metadata": {},
   "outputs": [
    {
     "name": "stdout",
     "output_type": "stream",
     "text": [
      "1\n",
      "2\n",
      "3\n",
      "4\n",
      "5\n",
      "6\n",
      "7\n",
      "8\n",
      "9\n",
      "10\n"
     ]
    }
   ],
   "source": [
    "i = 0\n",
    "\n",
    "while i<10:\n",
    "    i = i +1\n",
    "    print(i)\n",
    "    \n",
    "    "
   ]
  },
  {
   "cell_type": "code",
   "execution_count": 61,
   "id": "cc73b27f",
   "metadata": {},
   "outputs": [
    {
     "name": "stdout",
     "output_type": "stream",
     "text": [
      "29\n",
      "35\n",
      "53\n",
      "23\n",
      "90\n",
      "10\n",
      "100\n",
      "78\n"
     ]
    }
   ],
   "source": [
    "i = 0\n",
    "\n",
    "while i < len(ages):\n",
    "    print(ages[i])\n",
    "    i = i +1"
   ]
  },
  {
   "cell_type": "code",
   "execution_count": 82,
   "id": "0c601fd9",
   "metadata": {
    "scrolled": false
   },
   "outputs": [
    {
     "name": "stdout",
     "output_type": "stream",
     "text": [
      "29\n",
      "35\n",
      "53\n",
      "23\n",
      "95\n",
      "10\n",
      "100\n",
      "78\n"
     ]
    }
   ],
   "source": [
    "i = 0\n",
    "\n",
    "while True:\n",
    "    if i >= len(ages):\n",
    "        break\n",
    "    print(ages[i])\n",
    "    \n",
    "    i = i +1"
   ]
  },
  {
   "cell_type": "markdown",
   "id": "873d8456",
   "metadata": {},
   "source": [
    "# Modificar Vector"
   ]
  },
  {
   "cell_type": "markdown",
   "id": "e9c67471",
   "metadata": {},
   "source": [
    "Podemos modificar los valores del vector y añader mas items (valores nuevos al vector)"
   ]
  },
  {
   "cell_type": "code",
   "execution_count": 79,
   "id": "af20f13a",
   "metadata": {},
   "outputs": [
    {
     "data": {
      "text/plain": [
       "90"
      ]
     },
     "execution_count": 79,
     "metadata": {},
     "output_type": "execute_result"
    }
   ],
   "source": [
    "ages[4]"
   ]
  },
  {
   "cell_type": "code",
   "execution_count": 80,
   "id": "34e3894a",
   "metadata": {},
   "outputs": [],
   "source": [
    "ages[4] = 95"
   ]
  },
  {
   "cell_type": "code",
   "execution_count": 81,
   "id": "956503c2",
   "metadata": {},
   "outputs": [
    {
     "data": {
      "text/plain": [
       "95"
      ]
     },
     "execution_count": 81,
     "metadata": {},
     "output_type": "execute_result"
    }
   ],
   "source": [
    "ages[4]"
   ]
  },
  {
   "cell_type": "code",
   "execution_count": 83,
   "id": "61956779",
   "metadata": {},
   "outputs": [],
   "source": [
    "i = 0\n",
    "\n",
    "while True:\n",
    "    if i >= len(ages):\n",
    "        break\n",
    "    ages[i] = ages[i] + 1\n",
    "    \n",
    "    i = i +1"
   ]
  },
  {
   "cell_type": "code",
   "execution_count": 84,
   "id": "78414e55",
   "metadata": {},
   "outputs": [
    {
     "data": {
      "text/plain": [
       "[30, 36, 54, 24, 96, 11, 101, 79]"
      ]
     },
     "execution_count": 84,
     "metadata": {},
     "output_type": "execute_result"
    }
   ],
   "source": [
    "ages"
   ]
  },
  {
   "cell_type": "code",
   "execution_count": 90,
   "id": "49f17757",
   "metadata": {},
   "outputs": [],
   "source": [
    "ages.append(20)"
   ]
  },
  {
   "cell_type": "code",
   "execution_count": 91,
   "id": "c530fb43",
   "metadata": {},
   "outputs": [
    {
     "data": {
      "text/plain": [
       "[30, 36, 54, 24, 96, 11, 101, 79, [1, 2, 3], 1, 20]"
      ]
     },
     "execution_count": 91,
     "metadata": {},
     "output_type": "execute_result"
    }
   ],
   "source": [
    "ages"
   ]
  },
  {
   "cell_type": "code",
   "execution_count": 94,
   "id": "eef019f9",
   "metadata": {},
   "outputs": [],
   "source": [
    "# Borro valores por indice\n",
    "del ages[8]"
   ]
  },
  {
   "cell_type": "code",
   "execution_count": 95,
   "id": "f92d90b5",
   "metadata": {},
   "outputs": [
    {
     "data": {
      "text/plain": [
       "[30, 36, 54, 24, 96, 11, 101, 79, 20]"
      ]
     },
     "execution_count": 95,
     "metadata": {},
     "output_type": "execute_result"
    }
   ],
   "source": [
    "ages"
   ]
  },
  {
   "cell_type": "code",
   "execution_count": 96,
   "id": "37909312",
   "metadata": {},
   "outputs": [],
   "source": [
    "# Borro valores por valor\n",
    "ages.remove(30)"
   ]
  },
  {
   "cell_type": "code",
   "execution_count": 97,
   "id": "1ba53a69",
   "metadata": {},
   "outputs": [
    {
     "data": {
      "text/plain": [
       "[36, 54, 24, 96, 11, 101, 79, 20]"
      ]
     },
     "execution_count": 97,
     "metadata": {},
     "output_type": "execute_result"
    }
   ],
   "source": [
    "ages"
   ]
  },
  {
   "cell_type": "markdown",
   "id": "30262556",
   "metadata": {},
   "source": [
    "# Tuples"
   ]
  },
  {
   "cell_type": "markdown",
   "id": "ee512687",
   "metadata": {},
   "source": [
    "Son vectores que no pueden ser modificados"
   ]
  },
  {
   "cell_type": "code",
   "execution_count": 105,
   "id": "a975975c",
   "metadata": {},
   "outputs": [],
   "source": [
    "tuples = tuple([1,2,3,3,89,90,6])"
   ]
  },
  {
   "cell_type": "code",
   "execution_count": 106,
   "id": "91560403",
   "metadata": {},
   "outputs": [
    {
     "data": {
      "text/plain": [
       "(1, 2, 3, 3, 89, 90, 6)"
      ]
     },
     "execution_count": 106,
     "metadata": {},
     "output_type": "execute_result"
    }
   ],
   "source": [
    "tuples # se visualizan entre parentesis"
   ]
  },
  {
   "cell_type": "code",
   "execution_count": 110,
   "id": "66d4f029",
   "metadata": {},
   "outputs": [
    {
     "data": {
      "text/plain": [
       "tuple"
      ]
     },
     "execution_count": 110,
     "metadata": {},
     "output_type": "execute_result"
    }
   ],
   "source": [
    "type(tuples)"
   ]
  },
  {
   "cell_type": "code",
   "execution_count": 111,
   "id": "e0edd480",
   "metadata": {},
   "outputs": [],
   "source": [
    "# Las tuplas no pueden ser modificadas, no puedo modificar valores ni agregar\n",
    "# tuples[1] =1\n",
    "# tuples.append(34)"
   ]
  },
  {
   "cell_type": "markdown",
   "id": "8ec00213",
   "metadata": {},
   "source": [
    "# Diccionarios"
   ]
  },
  {
   "cell_type": "markdown",
   "id": "32372367",
   "metadata": {},
   "source": [
    "Son representados por clave-valor, la clave debe ser unica"
   ]
  },
  {
   "cell_type": "code",
   "execution_count": 114,
   "id": "c832f034",
   "metadata": {},
   "outputs": [],
   "source": [
    "my1Dic = dict()\n",
    "my2Dic = {}"
   ]
  },
  {
   "cell_type": "code",
   "execution_count": 116,
   "id": "400cf626",
   "metadata": {
    "scrolled": true
   },
   "outputs": [
    {
     "data": {
      "text/plain": [
       "{}"
      ]
     },
     "execution_count": 116,
     "metadata": {},
     "output_type": "execute_result"
    }
   ],
   "source": [
    "my1Dic"
   ]
  },
  {
   "cell_type": "code",
   "execution_count": 118,
   "id": "48a044f5",
   "metadata": {},
   "outputs": [],
   "source": [
    "my3Dic = {\n",
    "    \"1\": \"Juan\",\n",
    "    \"2\": \"Pedro\",\n",
    "    \"3\": \"Goku\"\n",
    "}"
   ]
  },
  {
   "cell_type": "code",
   "execution_count": 123,
   "id": "9a07c2cd",
   "metadata": {},
   "outputs": [
    {
     "name": "stdout",
     "output_type": "stream",
     "text": [
      "{'1': 'Juan', '2': 'Pedro', '3': 'Goku'}\n",
      "Pedro\n"
     ]
    }
   ],
   "source": [
    "print(my3Dic)\n",
    "print(my3Dic[\"2\"])\n"
   ]
  },
  {
   "cell_type": "code",
   "execution_count": 136,
   "id": "c4e42456",
   "metadata": {},
   "outputs": [],
   "source": [
    "countries = {\n",
    "    \"AR\": \"Argentina\",\n",
    "    \"CH\": \"Chile\",\n",
    "    \"BR\": \"Brasil\"\n",
    "}\n",
    "\n",
    "\n",
    "\n",
    "myDic = {\n",
    "    \"1\": countries,\n",
    "    \"2\": \"Pedro\",\n",
    "    \"3\": [\"test\", \"2\", \"lala\"],\n",
    "    \"4\": \"Pedro\"\n",
    "}"
   ]
  },
  {
   "cell_type": "code",
   "execution_count": 137,
   "id": "0263e1ed",
   "metadata": {},
   "outputs": [
    {
     "data": {
      "text/plain": [
       "{'1': {'AR': 'Argentina', 'CH': 'Chile', 'BR': 'Brasil'},\n",
       " '2': 'Pedro',\n",
       " '3': ['test', '2', 'lala'],\n",
       " '4': 'Pedro'}"
      ]
     },
     "execution_count": 137,
     "metadata": {},
     "output_type": "execute_result"
    }
   ],
   "source": [
    "myDic"
   ]
  },
  {
   "cell_type": "code",
   "execution_count": 141,
   "id": "dc6b2380",
   "metadata": {},
   "outputs": [
    {
     "name": "stdout",
     "output_type": "stream",
     "text": [
      "{'AR': 'Argentina', 'CH': 'Chile', 'BR': 'Brasil'}\n",
      "Pedro\n",
      "la key: 2 es Pedro\n",
      "['test', '2', 'lala']\n",
      "Pedro\n",
      "la key: 4 es Pedro\n"
     ]
    }
   ],
   "source": [
    "for key, value in myDic.items():\n",
    "    print(value)\n",
    "    if value == \"Pedro\":\n",
    "        print(\"la key: {} es Pedro\".format(key))\n",
    "    "
   ]
  },
  {
   "cell_type": "markdown",
   "id": "ca902850",
   "metadata": {},
   "source": [
    "# Set"
   ]
  },
  {
   "cell_type": "markdown",
   "id": "2d2de908",
   "metadata": {},
   "source": [
    "vactores sin valores repetidos "
   ]
  },
  {
   "cell_type": "code",
   "execution_count": 150,
   "id": "de4dcd55",
   "metadata": {},
   "outputs": [],
   "source": [
    "val = set([1,2,3,4, 1,2,3,4,5])"
   ]
  },
  {
   "cell_type": "code",
   "execution_count": 158,
   "id": "9407b1f2",
   "metadata": {},
   "outputs": [
    {
     "name": "stdout",
     "output_type": "stream",
     "text": [
      "1\n",
      "2\n",
      "3\n",
      "4\n",
      "5\n"
     ]
    }
   ],
   "source": [
    "print(val)\n",
    "\n",
    "# Puedo iterar como un vector comun\n",
    "for x in val:\n",
    "    print(x)"
   ]
  },
  {
   "cell_type": "code",
   "execution_count": 153,
   "id": "77f44415",
   "metadata": {},
   "outputs": [],
   "source": [
    "\n",
    "myListRepeat = [1,2,3,2,1,2,3,1,2,3,3,2,1,4,5,5,4]"
   ]
  },
  {
   "cell_type": "code",
   "execution_count": 155,
   "id": "17eff252",
   "metadata": {},
   "outputs": [
    {
     "data": {
      "text/plain": [
       "[1, 2, 3, 2, 1, 2, 3, 1, 2, 3, 3, 2, 1, 4, 5, 5, 4]"
      ]
     },
     "execution_count": 155,
     "metadata": {},
     "output_type": "execute_result"
    }
   ],
   "source": [
    "myListRepeat"
   ]
  },
  {
   "cell_type": "code",
   "execution_count": 161,
   "id": "7aabf4ca",
   "metadata": {},
   "outputs": [
    {
     "name": "stdout",
     "output_type": "stream",
     "text": [
      "<class 'list'>\n",
      "[1, 2, 3, 4, 5]\n"
     ]
    }
   ],
   "source": [
    "# Hago la conversion a set para que borre los duplicados y vuelvo a hacer una conversion a lista\n",
    "MyListNoRepeat = list(set(myListRepeat))\n",
    "\n",
    "print(type(MyListNoRepeat))\n",
    "print(MyListNoRepeat)"
   ]
  }
 ],
 "metadata": {
  "kernelspec": {
   "display_name": "Python 3",
   "language": "python",
   "name": "python3"
  },
  "language_info": {
   "codemirror_mode": {
    "name": "ipython",
    "version": 3
   },
   "file_extension": ".py",
   "mimetype": "text/x-python",
   "name": "python",
   "nbconvert_exporter": "python",
   "pygments_lexer": "ipython3",
   "version": "3.8.8"
  }
 },
 "nbformat": 4,
 "nbformat_minor": 5
}
