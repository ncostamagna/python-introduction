{
 "cells": [
  {
   "cell_type": "markdown",
   "id": "03767cb6",
   "metadata": {},
   "source": [
    "# Vectors Advance"
   ]
  },
  {
   "cell_type": "code",
   "execution_count": 14,
   "id": "5022c9cb",
   "metadata": {},
   "outputs": [],
   "source": [
    "val1 = 1"
   ]
  },
  {
   "cell_type": "code",
   "execution_count": 15,
   "id": "1a88e029",
   "metadata": {},
   "outputs": [],
   "source": [
    "val2 = val1 # paso el valor"
   ]
  },
  {
   "cell_type": "code",
   "execution_count": 16,
   "id": "0c5f1bd1",
   "metadata": {},
   "outputs": [],
   "source": [
    "val2 = 2"
   ]
  },
  {
   "cell_type": "code",
   "execution_count": 20,
   "id": "450924c7",
   "metadata": {
    "scrolled": false
   },
   "outputs": [
    {
     "data": {
      "text/plain": [
       "1"
      ]
     },
     "execution_count": 20,
     "metadata": {},
     "output_type": "execute_result"
    }
   ],
   "source": [
    "val1 "
   ]
  },
  {
   "cell_type": "code",
   "execution_count": 21,
   "id": "6a6cf1e7",
   "metadata": {},
   "outputs": [],
   "source": [
    "a = [1,2,3,4]"
   ]
  },
  {
   "cell_type": "code",
   "execution_count": 22,
   "id": "2279a10e",
   "metadata": {},
   "outputs": [],
   "source": [
    "b = a # paso la referencia"
   ]
  },
  {
   "cell_type": "code",
   "execution_count": 23,
   "id": "fad9cdb3",
   "metadata": {},
   "outputs": [],
   "source": [
    "b[1] = 50"
   ]
  },
  {
   "cell_type": "code",
   "execution_count": 25,
   "id": "07621b92",
   "metadata": {},
   "outputs": [
    {
     "data": {
      "text/plain": [
       "[1, 50, 3, 4]"
      ]
     },
     "execution_count": 25,
     "metadata": {},
     "output_type": "execute_result"
    }
   ],
   "source": [
    "a"
   ]
  },
  {
   "cell_type": "markdown",
   "id": "87aa5273",
   "metadata": {},
   "source": [
    "### clonamos vector"
   ]
  },
  {
   "cell_type": "code",
   "execution_count": 27,
   "id": "25d177c7",
   "metadata": {},
   "outputs": [],
   "source": [
    "a = [1,2,3,4]"
   ]
  },
  {
   "cell_type": "code",
   "execution_count": 29,
   "id": "11d945a7",
   "metadata": {},
   "outputs": [],
   "source": [
    "b = a.copy()"
   ]
  },
  {
   "cell_type": "code",
   "execution_count": 31,
   "id": "21377153",
   "metadata": {},
   "outputs": [],
   "source": [
    "b[1] = 50"
   ]
  },
  {
   "cell_type": "code",
   "execution_count": 35,
   "id": "d5c4fa13",
   "metadata": {},
   "outputs": [
    {
     "data": {
      "text/plain": [
       "[1, 2, 3, 4]"
      ]
     },
     "execution_count": 35,
     "metadata": {},
     "output_type": "execute_result"
    }
   ],
   "source": [
    "a"
   ]
  },
  {
   "cell_type": "markdown",
   "id": "0228c4f2",
   "metadata": {},
   "source": [
    "### Limpiar vector"
   ]
  },
  {
   "cell_type": "code",
   "execution_count": 36,
   "id": "0073979e",
   "metadata": {},
   "outputs": [],
   "source": [
    "a.clear()"
   ]
  },
  {
   "cell_type": "code",
   "execution_count": 37,
   "id": "e524b6e8",
   "metadata": {
    "scrolled": true
   },
   "outputs": [
    {
     "data": {
      "text/plain": [
       "[]"
      ]
     },
     "execution_count": 37,
     "metadata": {},
     "output_type": "execute_result"
    }
   ],
   "source": [
    "a"
   ]
  },
  {
   "cell_type": "markdown",
   "id": "30a819eb",
   "metadata": {},
   "source": [
    "### Remover valores del vector \n",
    "(por valor, le paso el valor)"
   ]
  },
  {
   "cell_type": "code",
   "execution_count": 39,
   "id": "0353ce92",
   "metadata": {},
   "outputs": [],
   "source": [
    "a = [1,2,3,4]"
   ]
  },
  {
   "cell_type": "code",
   "execution_count": 40,
   "id": "35f72a03",
   "metadata": {},
   "outputs": [],
   "source": [
    "a.remove(1)"
   ]
  },
  {
   "cell_type": "code",
   "execution_count": 41,
   "id": "46317fde",
   "metadata": {},
   "outputs": [
    {
     "data": {
      "text/plain": [
       "[2, 3, 4]"
      ]
     },
     "execution_count": 41,
     "metadata": {},
     "output_type": "execute_result"
    }
   ],
   "source": [
    "a"
   ]
  },
  {
   "cell_type": "markdown",
   "id": "e26035e0",
   "metadata": {},
   "source": [
    "### Ordenar vector"
   ]
  },
  {
   "cell_type": "code",
   "execution_count": 47,
   "id": "8f263dfb",
   "metadata": {},
   "outputs": [],
   "source": [
    "a = [2,1,2,4,3,2,5]"
   ]
  },
  {
   "cell_type": "code",
   "execution_count": 48,
   "id": "5743ca64",
   "metadata": {},
   "outputs": [
    {
     "data": {
      "text/plain": [
       "[1, 2, 2, 2, 3, 4, 5]"
      ]
     },
     "execution_count": 48,
     "metadata": {},
     "output_type": "execute_result"
    }
   ],
   "source": [
    "a.sort()\n",
    "a"
   ]
  },
  {
   "cell_type": "code",
   "execution_count": 49,
   "id": "2d6e4db3",
   "metadata": {},
   "outputs": [
    {
     "data": {
      "text/plain": [
       "[5, 4, 3, 2, 2, 2, 1]"
      ]
     },
     "execution_count": 49,
     "metadata": {},
     "output_type": "execute_result"
    }
   ],
   "source": [
    "a.sort(reverse=True)\n",
    "a"
   ]
  },
  {
   "cell_type": "markdown",
   "id": "3f8223d6",
   "metadata": {},
   "source": [
    "### Quito el ultimo valor asignado del array"
   ]
  },
  {
   "cell_type": "code",
   "execution_count": 63,
   "id": "ccc09cba",
   "metadata": {},
   "outputs": [],
   "source": [
    "a = [1,2,5,4,5,1,2]"
   ]
  },
  {
   "cell_type": "code",
   "execution_count": 64,
   "id": "6f585da6",
   "metadata": {},
   "outputs": [
    {
     "data": {
      "text/plain": [
       "2"
      ]
     },
     "execution_count": 64,
     "metadata": {},
     "output_type": "execute_result"
    }
   ],
   "source": [
    "a.pop()"
   ]
  },
  {
   "cell_type": "code",
   "execution_count": 65,
   "id": "c619befe",
   "metadata": {},
   "outputs": [
    {
     "data": {
      "text/plain": [
       "[1, 2, 5, 4, 5, 1]"
      ]
     },
     "execution_count": 65,
     "metadata": {},
     "output_type": "execute_result"
    }
   ],
   "source": [
    "a"
   ]
  },
  {
   "cell_type": "markdown",
   "id": "211fbabf",
   "metadata": {},
   "source": [
    "### Inserto valores en el vector\n",
    "\n",
    "```py\n",
    "a.insert(indice, valor)\n",
    "```\n",
    "\n",
    "Si el indice que ingreso es mayor a la longitud del array, lo inserta en el final del venctor"
   ]
  },
  {
   "cell_type": "code",
   "execution_count": 72,
   "id": "16d77044",
   "metadata": {},
   "outputs": [],
   "source": [
    "a = [1,2,3,4]"
   ]
  },
  {
   "cell_type": "code",
   "execution_count": 78,
   "id": "b87c6470",
   "metadata": {},
   "outputs": [],
   "source": [
    "a.insert(9,10)"
   ]
  },
  {
   "cell_type": "code",
   "execution_count": 79,
   "id": "d6658ead",
   "metadata": {},
   "outputs": [
    {
     "data": {
      "text/plain": [
       "[1, 2, 2, 9, 9, 3, 4, 10]"
      ]
     },
     "execution_count": 79,
     "metadata": {},
     "output_type": "execute_result"
    }
   ],
   "source": [
    "a"
   ]
  },
  {
   "cell_type": "markdown",
   "id": "b3c6f34e",
   "metadata": {},
   "source": [
    "### Combinar vectores"
   ]
  },
  {
   "cell_type": "code",
   "execution_count": 80,
   "id": "d03cab89",
   "metadata": {},
   "outputs": [],
   "source": [
    "a = [1,2,3,4]\n",
    "b = [5,6,7]"
   ]
  },
  {
   "cell_type": "code",
   "execution_count": 81,
   "id": "399cd1e4",
   "metadata": {},
   "outputs": [],
   "source": [
    "a.extend(b)"
   ]
  },
  {
   "cell_type": "code",
   "execution_count": 82,
   "id": "c3162564",
   "metadata": {},
   "outputs": [
    {
     "data": {
      "text/plain": [
       "[1, 2, 3, 4, 5, 6, 7]"
      ]
     },
     "execution_count": 82,
     "metadata": {},
     "output_type": "execute_result"
    }
   ],
   "source": [
    "a"
   ]
  },
  {
   "cell_type": "markdown",
   "id": "9cdde457",
   "metadata": {},
   "source": [
    "### Manipular vectores de forma dinamica"
   ]
  },
  {
   "cell_type": "code",
   "execution_count": 83,
   "id": "024df791",
   "metadata": {},
   "outputs": [],
   "source": [
    "a = [1,2,3,4,5,6,7,8,9,10]"
   ]
  },
  {
   "cell_type": "code",
   "execution_count": 88,
   "id": "ca6b3f58",
   "metadata": {},
   "outputs": [],
   "source": [
    "b = a[1:4] # el indice 4 no lo incluye"
   ]
  },
  {
   "cell_type": "code",
   "execution_count": 87,
   "id": "31fd42d0",
   "metadata": {},
   "outputs": [
    {
     "data": {
      "text/plain": [
       "[2, 3, 4]"
      ]
     },
     "execution_count": 87,
     "metadata": {},
     "output_type": "execute_result"
    }
   ],
   "source": [
    "b"
   ]
  },
  {
   "cell_type": "code",
   "execution_count": 91,
   "id": "d55a0b8c",
   "metadata": {},
   "outputs": [
    {
     "data": {
      "text/plain": [
       "[3, 4, 5, 6]"
      ]
     },
     "execution_count": 91,
     "metadata": {},
     "output_type": "execute_result"
    }
   ],
   "source": [
    "a[2:6] # Desde, hasta"
   ]
  },
  {
   "cell_type": "code",
   "execution_count": 92,
   "id": "67feab3b",
   "metadata": {},
   "outputs": [
    {
     "data": {
      "text/plain": [
       "[5, 6, 7, 8, 9, 10]"
      ]
     },
     "execution_count": 92,
     "metadata": {},
     "output_type": "execute_result"
    }
   ],
   "source": [
    "a[4:] # Desde"
   ]
  },
  {
   "cell_type": "code",
   "execution_count": 96,
   "id": "903ff871",
   "metadata": {},
   "outputs": [
    {
     "data": {
      "text/plain": [
       "[1, 2, 3, 4, 5]"
      ]
     },
     "execution_count": 96,
     "metadata": {},
     "output_type": "execute_result"
    }
   ],
   "source": [
    "a[:5] # Hasta"
   ]
  },
  {
   "cell_type": "code",
   "execution_count": 109,
   "id": "d22ae5e1",
   "metadata": {},
   "outputs": [
    {
     "data": {
      "text/plain": [
       "[1, 2, 3, 4, 5, 6, 7, 8, 9, 10]"
      ]
     },
     "execution_count": 109,
     "metadata": {},
     "output_type": "execute_result"
    }
   ],
   "source": [
    "a[:] # todo el vector"
   ]
  },
  {
   "cell_type": "code",
   "execution_count": 110,
   "id": "a4dd2314",
   "metadata": {},
   "outputs": [
    {
     "data": {
      "text/plain": [
       "[1, 2, 3, 4, 5]"
      ]
     },
     "execution_count": 110,
     "metadata": {},
     "output_type": "execute_result"
    }
   ],
   "source": [
    "a[:-5] # va a ir de forma inversa"
   ]
  },
  {
   "cell_type": "markdown",
   "id": "91692241",
   "metadata": {},
   "source": [
    "# Errores"
   ]
  },
  {
   "cell_type": "code",
   "execution_count": 29,
   "id": "560d5f4a",
   "metadata": {},
   "outputs": [],
   "source": [
    "def div2(a,b):\n",
    "    return a / b"
   ]
  },
  {
   "cell_type": "code",
   "execution_count": 30,
   "id": "7e82d630",
   "metadata": {},
   "outputs": [
    {
     "data": {
      "text/plain": [
       "0.5"
      ]
     },
     "execution_count": 30,
     "metadata": {},
     "output_type": "execute_result"
    }
   ],
   "source": [
    "div2(1,2)"
   ]
  },
  {
   "cell_type": "code",
   "execution_count": 33,
   "id": "5a0138c3",
   "metadata": {},
   "outputs": [
    {
     "ename": "ZeroDivisionError",
     "evalue": "division by zero",
     "output_type": "error",
     "traceback": [
      "\u001b[1;31m---------------------------------------------------------------------------\u001b[0m",
      "\u001b[1;31mZeroDivisionError\u001b[0m                         Traceback (most recent call last)",
      "\u001b[1;32m<ipython-input-33-f28b0eb159a0>\u001b[0m in \u001b[0;36m<module>\u001b[1;34m\u001b[0m\n\u001b[1;32m----> 1\u001b[1;33m \u001b[0mdiv2\u001b[0m\u001b[1;33m(\u001b[0m\u001b[1;36m2\u001b[0m\u001b[1;33m,\u001b[0m\u001b[1;36m0\u001b[0m\u001b[1;33m)\u001b[0m\u001b[1;33m\u001b[0m\u001b[1;33m\u001b[0m\u001b[0m\n\u001b[0m",
      "\u001b[1;32m<ipython-input-29-5d2a73c9eb53>\u001b[0m in \u001b[0;36mdiv2\u001b[1;34m(a, b)\u001b[0m\n\u001b[0;32m      1\u001b[0m \u001b[1;32mdef\u001b[0m \u001b[0mdiv2\u001b[0m\u001b[1;33m(\u001b[0m\u001b[0ma\u001b[0m\u001b[1;33m,\u001b[0m\u001b[0mb\u001b[0m\u001b[1;33m)\u001b[0m\u001b[1;33m:\u001b[0m\u001b[1;33m\u001b[0m\u001b[1;33m\u001b[0m\u001b[0m\n\u001b[1;32m----> 2\u001b[1;33m     \u001b[1;32mreturn\u001b[0m \u001b[0ma\u001b[0m \u001b[1;33m/\u001b[0m \u001b[0mb\u001b[0m\u001b[1;33m\u001b[0m\u001b[1;33m\u001b[0m\u001b[0m\n\u001b[0m",
      "\u001b[1;31mZeroDivisionError\u001b[0m: division by zero"
     ]
    }
   ],
   "source": [
    "div2(2,0)"
   ]
  },
  {
   "cell_type": "code",
   "execution_count": 19,
   "id": "cd4bdb28",
   "metadata": {},
   "outputs": [],
   "source": [
    "def div(a,b):\n",
    "    \n",
    "    if b < 0:\n",
    "        raise RuntimeError('El valor no puede ser negativo')\n",
    "    return a / b"
   ]
  },
  {
   "cell_type": "code",
   "execution_count": 20,
   "id": "7f5c0fac",
   "metadata": {},
   "outputs": [
    {
     "data": {
      "text/plain": [
       "0.5"
      ]
     },
     "execution_count": 20,
     "metadata": {},
     "output_type": "execute_result"
    }
   ],
   "source": [
    "div(1,2)"
   ]
  },
  {
   "cell_type": "code",
   "execution_count": 3,
   "id": "8acb1068",
   "metadata": {},
   "outputs": [
    {
     "name": "stdout",
     "output_type": "stream",
     "text": [
      "1  -  1.0\n",
      "2  -  0.5\n",
      "0  -  Ha habido un error al dividir por cero\n",
      "4  -  0.25\n",
      "-1  -  Ha habido un error en tiempo de ejecucion\n",
      "0  -  Ha habido un error al dividir por cero\n",
      "-5  -  Ha habido un error en tiempo de ejecucion\n",
      "1  -  1.0\n",
      "3  -  0.3333333333333333\n",
      "9  - esta fuera del alcance del vector\n"
     ]
    }
   ],
   "source": [
    "vec = [1,2,0,4,-1,0,-5,1,3]\n",
    "for i in range(20):\n",
    "    try:\n",
    "        a = div(1,vec[i])\n",
    "        print(vec[i], ' - ', a)\n",
    "    except ZeroDivisionError:\n",
    "        print(vec[i], ' - ',\"Ha habido un error al dividir por cero\")\n",
    "    except RuntimeError:\n",
    "        print(vec[i], ' - ',\"Ha habido un error en tiempo de ejecucion\")\n",
    "    except IndexError:\n",
    "        print(i, \" - esta fuera del alcance del vector\")\n",
    "        break\n",
    "    except:\n",
    "        print(vec[i], ' - ',\"ha habido otro error\")"
   ]
  }
 ],
 "metadata": {
  "kernelspec": {
   "display_name": "Python 3 (ipykernel)",
   "language": "python",
   "name": "python3"
  },
  "language_info": {
   "codemirror_mode": {
    "name": "ipython",
    "version": 3
   },
   "file_extension": ".py",
   "mimetype": "text/x-python",
   "name": "python",
   "nbconvert_exporter": "python",
   "pygments_lexer": "ipython3",
   "version": "3.9.7"
  }
 },
 "nbformat": 4,
 "nbformat_minor": 5
}
