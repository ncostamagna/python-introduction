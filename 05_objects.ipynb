{
 "cells": [
  {
   "cell_type": "markdown",
   "id": "d9e96ca2",
   "metadata": {},
   "source": [
    "# Objetos"
   ]
  },
  {
   "cell_type": "code",
   "execution_count": 9,
   "id": "32af872f",
   "metadata": {},
   "outputs": [],
   "source": [
    "class Escarabajo():\n",
    "    pass # pass lo indico para que no haga nada, si no le pongo pass explota\n",
    "    \n",
    "\n",
    "a = Escarabajo() # instancio objeto"
   ]
  },
  {
   "cell_type": "code",
   "execution_count": 12,
   "id": "09366f6e",
   "metadata": {},
   "outputs": [
    {
     "name": "stdout",
     "output_type": "stream",
     "text": [
      "Se ejecuta el contructor\n"
     ]
    }
   ],
   "source": [
    "class Escarabajo:\n",
    "    \n",
    "    # constructor, lo que se ejecuta cuando instancio el objeto\n",
    "    def __init__(self, nombre, color):\n",
    "        print(\"Se ejecuta el contructor\")\n",
    "        self.patas = 6\n",
    "        self.vuela = True\n",
    "        self.nombre = nombre\n",
    "        self.color = color\n",
    "        self.ojos = 2\n",
    "        self.esqueletoExterno = True\n",
    "    \n",
    "\n",
    "hercules = Escarabajo(\"hercules\", \"amarillo\")\n",
    "atlas = Escarabajo(\"atlas\", \"negro\")"
   ]
  },
  {
   "cell_type": "code",
   "execution_count": 16,
   "id": "e984139d",
   "metadata": {},
   "outputs": [
    {
     "name": "stdout",
     "output_type": "stream",
     "text": [
      "Se ejecuta el contructor\n",
      "hercules\n",
      "cantidad patas:  6  - Vuela:  True\n",
      "color:  amarillo  - ojos:  2\n",
      "Se ejecuta el contructor\n",
      "atlas\n",
      "cantidad patas:  6  - Vuela:  True\n",
      "color:  negro  - ojos:  2\n"
     ]
    }
   ],
   "source": [
    "class Escarabajo:\n",
    "    \n",
    "    # constructor, lo que se ejecuta cuando instancio el objeto\n",
    "    def __init__(self, nombre, color):\n",
    "        print(\"Se ejecuta el contructor\")\n",
    "        self.patas = 6\n",
    "        self.vuela = True\n",
    "        self.nombre = nombre\n",
    "        self.color = color\n",
    "        self.ojos = 2\n",
    "        self.esqueletoExterno = True\n",
    "    \n",
    "    def info(self):\n",
    "        print(self.nombre)\n",
    "        print(\"cantidad patas: \", self.patas, \" - Vuela: \", self.vuela)\n",
    "        print(\"color: \", self.color, \" - ojos: \", self.ojos)\n",
    "    \n",
    "\n",
    "h = Escarabajo(\"hercules\", \"amarillo\")\n",
    "h.info()\n",
    "\n",
    "h = Escarabajo(\"atlas\", \"negro\")\n",
    "h.info()"
   ]
  },
  {
   "cell_type": "code",
   "execution_count": 29,
   "id": "4f4ff714",
   "metadata": {},
   "outputs": [
    {
     "name": "stdout",
     "output_type": "stream",
     "text": [
      "Se ejecuta el contructor\n",
      "hercules\n",
      "cantidad patas:  6  - Vuela:  True\n",
      "color:  amarillo  - ojos:  2\n",
      "2000\n",
      "Resiste: Si\n"
     ]
    }
   ],
   "source": [
    "class Escarabajo:\n",
    "    \n",
    "    # constructor, lo que se ejecuta cuando instancio el objeto\n",
    "    def __init__(self, nombre, color):\n",
    "        print(\"Se ejecuta el contructor\")\n",
    "        self.patas = 6\n",
    "        self.vuela = True\n",
    "        self.nombre = nombre\n",
    "        self.color = color\n",
    "        self.ojos = 2\n",
    "        self.distancia = 50 # 50 metros por hora\n",
    "        self.camina = True\n",
    "        self.esqueletoExterno = True\n",
    "    \n",
    "    def info(self):\n",
    "        print(self.nombre)\n",
    "        print(\"cantidad patas: \", self.patas, \" - Vuela: \", self.vuela)\n",
    "        print(\"color: \", self.color, \" - ojos: \", self.ojos)\n",
    "    \n",
    "    def distanciaEnRecorrer(self, hora):\n",
    "        if self.camina:\n",
    "            return self.distancia * hora\n",
    "        else:\n",
    "            return 0\n",
    "        \n",
    "    def resisteAtaque(self):\n",
    "        if self.esqueletoExterno:\n",
    "            print(\"Resiste: Si\")\n",
    "        else:\n",
    "            print(\"Resiste: No\")\n",
    "    \n",
    "\n",
    "h = Escarabajo(\"hercules\", \"amarillo\")\n",
    "h.info()\n",
    "d = h.distanciaEnRecorrer(40)\n",
    "print(d)\n",
    "h.resisteAtaque()"
   ]
  },
  {
   "cell_type": "code",
   "execution_count": 30,
   "id": "348f8854",
   "metadata": {},
   "outputs": [
    {
     "name": "stdout",
     "output_type": "stream",
     "text": [
      "Se ejecuta el contructor\n",
      "africana\n",
      "cantidad patas:  6  - Vuela:  False\n",
      "color:  rojo  - ojos:  2\n",
      "3600\n",
      "Resiste: Si\n"
     ]
    }
   ],
   "source": [
    "class Hormiga:\n",
    "     # constructor, lo que se ejecuta cuando instancio el objeto\n",
    "    def __init__(self, nombre, color):\n",
    "        print(\"Se ejecuta el contructor\")\n",
    "        self.patas = 6\n",
    "        self.vuela = False\n",
    "        self.nombre = nombre\n",
    "        self.color = color\n",
    "        self.ojos = 2\n",
    "        self.distancia = 90 # 90 metros por hora\n",
    "        self.camina = True\n",
    "        self.esqueletoExterno = True\n",
    "        \n",
    "    def info(self):\n",
    "        print(self.nombre)\n",
    "        print(\"cantidad patas: \", self.patas, \" - Vuela: \", self.vuela)\n",
    "        print(\"color: \", self.color, \" - ojos: \", self.ojos)\n",
    "    \n",
    "    def distanciaEnRecorrer(self, hora):\n",
    "        if self.camina:\n",
    "            return self.distancia * hora\n",
    "        else:\n",
    "            return 0\n",
    "        \n",
    "    def resisteAtaque(self):\n",
    "        if self.esqueletoExterno:\n",
    "            print(\"Resiste: Si\")\n",
    "        else:\n",
    "            print(\"Resiste: No\")\n",
    "    \n",
    "a = Hormiga(\"africana\", \"rojo\")\n",
    "a.info()\n",
    "d = a.distanciaEnRecorrer(40)\n",
    "print(d)\n",
    "a.resisteAtaque()"
   ]
  },
  {
   "cell_type": "markdown",
   "id": "0264dde1",
   "metadata": {},
   "source": [
    "# Herencia"
   ]
  },
  {
   "cell_type": "code",
   "execution_count": 66,
   "id": "634446f5",
   "metadata": {},
   "outputs": [],
   "source": [
    "class Insecto():\n",
    "    \n",
    "    def __init__(self):\n",
    "        self.patas = 6\n",
    "        self.camina = True\n",
    "        self.esqueletoExterno = True\n",
    "    \n",
    "    def resisteAtaque(self):\n",
    "        if self.esqueletoExterno:\n",
    "            print(\"Resiste: Si\")\n",
    "        else:\n",
    "            print(\"Resiste: No\")"
   ]
  },
  {
   "cell_type": "code",
   "execution_count": 70,
   "id": "d05ae7e1",
   "metadata": {},
   "outputs": [
    {
     "name": "stdout",
     "output_type": "stream",
     "text": [
      "Se ejecuta el contructor\n",
      "hercules\n",
      "cantidad patas:  6  - Vuela:  True\n",
      "color:  amarillo  - ojos:  2\n",
      "2000\n",
      "Resiste: Si\n"
     ]
    }
   ],
   "source": [
    "class Escarabajo(Insecto):\n",
    "    \n",
    "    # constructor, lo que se ejecuta cuando instancio el objeto\n",
    "    def __init__(self, nombre, color):\n",
    "        print(\"Se ejecuta el contructor\")\n",
    "        Insecto.__init__(self)\n",
    "        self.vuela = True\n",
    "        self.nombre = nombre\n",
    "        self.color = color\n",
    "        self.ojos = 2\n",
    "        self.distancia = 50 # 50 metros por hora\n",
    "    \n",
    "    def info(self):\n",
    "        print(self.nombre)\n",
    "        print(\"cantidad patas: \", self.patas, \" - Vuela: \", self.vuela)\n",
    "        print(\"color: \", self.color, \" - ojos: \", self.ojos)\n",
    "    \n",
    "    def distanciaEnRecorrer(self, hora):\n",
    "        if self.camina:\n",
    "            return self.distancia * hora\n",
    "        else:\n",
    "            return 0\n",
    "\n",
    "h = Escarabajo(\"hercules\", \"amarillo\")\n",
    "h.info()\n",
    "d = h.distanciaEnRecorrer(40)\n",
    "print(d)\n",
    "h.resisteAtaque()"
   ]
  },
  {
   "cell_type": "code",
   "execution_count": 69,
   "id": "9874dcf3",
   "metadata": {},
   "outputs": [
    {
     "name": "stdout",
     "output_type": "stream",
     "text": [
      "Se ejecuta el contructor\n",
      "africana\n",
      "cantidad patas:  6  - Vuela:  False\n",
      "color:  rojo  - ojos:  2\n",
      "3600\n",
      "Resiste: Si\n"
     ]
    }
   ],
   "source": [
    "class Hormiga(Insecto):\n",
    "     # constructor, lo que se ejecuta cuando instancio el objeto\n",
    "    def __init__(self, nombre, color):\n",
    "        print(\"Se ejecuta el contructor\")\n",
    "        Insecto.__init__(self)\n",
    "        self.vuela = False\n",
    "        self.nombre = nombre\n",
    "        self.color = color\n",
    "        self.ojos = 2\n",
    "        self.distancia = 90 # 90 metros por hora\n",
    "        \n",
    "    def info(self):\n",
    "        print(self.nombre)\n",
    "        print(\"cantidad patas: \", self.patas, \" - Vuela: \", self.vuela)\n",
    "        print(\"color: \", self.color, \" - ojos: \", self.ojos)\n",
    "    \n",
    "    def distanciaEnRecorrer(self, hora):\n",
    "        if self.camina:\n",
    "            return self.distancia * hora\n",
    "        else:\n",
    "            return 0\n",
    "\n",
    "a = Hormiga(\"africana\", \"rojo\")\n",
    "a.info()\n",
    "d = a.distanciaEnRecorrer(40)\n",
    "print(d)\n",
    "a.resisteAtaque()"
   ]
  }
 ],
 "metadata": {
  "kernelspec": {
   "display_name": "Python 3 (ipykernel)",
   "language": "python",
   "name": "python3"
  },
  "language_info": {
   "codemirror_mode": {
    "name": "ipython",
    "version": 3
   },
   "file_extension": ".py",
   "mimetype": "text/x-python",
   "name": "python",
   "nbconvert_exporter": "python",
   "pygments_lexer": "ipython3",
   "version": "3.9.7"
  }
 },
 "nbformat": 4,
 "nbformat_minor": 5
}
