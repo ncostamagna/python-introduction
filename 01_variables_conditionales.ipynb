{
 "cells": [
  {
   "cell_type": "markdown",
   "id": "2e9eb565",
   "metadata": {},
   "source": [
    "# Mi titulo"
   ]
  },
  {
   "cell_type": "markdown",
   "id": "272fb539",
   "metadata": {},
   "source": [
    "### Mi subtitulo\n",
    "\n",
    "- test1\n",
    "- test 2"
   ]
  },
  {
   "cell_type": "code",
   "execution_count": 1,
   "id": "d660c657",
   "metadata": {},
   "outputs": [
    {
     "name": "stdout",
     "output_type": "stream",
     "text": [
      "hello world\n"
     ]
    }
   ],
   "source": [
    "print(\"hello world\")"
   ]
  },
  {
   "cell_type": "code",
   "execution_count": 2,
   "id": "6d076a3e",
   "metadata": {
    "scrolled": true
   },
   "outputs": [
    {
     "name": "stdout",
     "output_type": "stream",
     "text": [
      "2\n"
     ]
    }
   ],
   "source": [
    "print(1 + 1)"
   ]
  },
  {
   "cell_type": "code",
   "execution_count": 3,
   "id": "7da4b98b",
   "metadata": {},
   "outputs": [],
   "source": [
    "miStringVar = \"hello world\""
   ]
  },
  {
   "cell_type": "code",
   "execution_count": 11,
   "id": "1a1d3c4d",
   "metadata": {},
   "outputs": [
    {
     "name": "stdout",
     "output_type": "stream",
     "text": [
      "hola mundo\n",
      "<class 'str'>\n",
      "12\n",
      "<class 'int'>\n"
     ]
    }
   ],
   "source": [
    "miStringVar = \"hola mundo\"\n",
    "\n",
    "print(miStringVar)\n",
    "print(type(miStringVar))\n",
    "\n",
    "miStringVar = 12\n",
    "\n",
    "print(miStringVar)\n",
    "print(type(miStringVar))"
   ]
  },
  {
   "cell_type": "code",
   "execution_count": 17,
   "id": "bd77d9cf",
   "metadata": {},
   "outputs": [
    {
     "name": "stdout",
     "output_type": "stream",
     "text": [
      "my string\n",
      "<class 'str'>\n",
      "\n",
      "123\n",
      "<class 'int'>\n",
      "\n",
      "123.123\n",
      "<class 'float'>\n",
      "\n",
      "True\n",
      "<class 'bool'>\n",
      "\n"
     ]
    }
   ],
   "source": [
    "myString = \"my string\"\n",
    "print(myString)\n",
    "print(type(myString))\n",
    "print()\n",
    "\n",
    "myInt = 123\n",
    "print(myInt)\n",
    "print(type(myInt))\n",
    "print()\n",
    "\n",
    "myFloat = 123.123\n",
    "print(myFloat)\n",
    "print(type(myFloat))\n",
    "print()\n",
    "\n",
    "myBool = True\n",
    "print(myBool)\n",
    "print(type(myBool))\n",
    "print()"
   ]
  },
  {
   "cell_type": "code",
   "execution_count": 23,
   "id": "44e57c57",
   "metadata": {},
   "outputs": [],
   "source": [
    "def myPrint(myVar):\n",
    "    print(myVar)\n",
    "    print(type(myVar))\n",
    "    print()"
   ]
  },
  {
   "cell_type": "code",
   "execution_count": 26,
   "id": "dae7cf88",
   "metadata": {},
   "outputs": [
    {
     "name": "stdout",
     "output_type": "stream",
     "text": [
      "my string\n",
      "<class 'str'>\n",
      "\n",
      "123\n",
      "<class 'int'>\n",
      "\n",
      "123.123\n",
      "<class 'float'>\n",
      "\n",
      "True\n",
      "<class 'bool'>\n",
      "\n"
     ]
    }
   ],
   "source": [
    "myString = \"my string\"\n",
    "myPrint(myString)\n",
    "\n",
    "myPrint(123)\n",
    "\n",
    "myFloat = 123.123\n",
    "myPrint(myFloat)\n",
    "\n",
    "myBool = True\n",
    "myPrint(myBool)"
   ]
  },
  {
   "cell_type": "code",
   "execution_count": 42,
   "id": "e4eb5e7f",
   "metadata": {},
   "outputs": [],
   "source": [
    "def sum(a, b):\n",
    "    return a + b"
   ]
  },
  {
   "cell_type": "code",
   "execution_count": 41,
   "id": "95419eba",
   "metadata": {
    "scrolled": true
   },
   "outputs": [
    {
     "name": "stdout",
     "output_type": "stream",
     "text": [
      "6\n"
     ]
    }
   ],
   "source": [
    "print(sum(2,4))"
   ]
  },
  {
   "cell_type": "code",
   "execution_count": 50,
   "id": "023092f5",
   "metadata": {},
   "outputs": [
    {
     "name": "stdout",
     "output_type": "stream",
     "text": [
      "es menor\n"
     ]
    }
   ],
   "source": [
    "age = 12\n",
    "\n",
    "if age >= 65:\n",
    "    print(\"jubilado\")\n",
    "elif age >= 18:\n",
    "    print(\"mayor\")\n",
    "else:\n",
    "    print(\"es menor\")\n"
   ]
  },
  {
   "cell_type": "code",
   "execution_count": 61,
   "id": "7273c7fd",
   "metadata": {
    "scrolled": true
   },
   "outputs": [
    {
     "name": "stdout",
     "output_type": "stream",
     "text": [
      "mayor\n"
     ]
    }
   ],
   "source": [
    "age = 500\n",
    "\n",
    "if age >= 18 and age < 65 or age > 100 :\n",
    "    print(\"mayor\")\n",
    "elif age >= 65:\n",
    "    print(\"jubilado\")\n",
    "else:\n",
    "    print(\"es menor\")\n",
    "    \n",
    "    \n",
    "# y = (2 + 4) * 10\n",
    "# + es or\n",
    "# * es and"
   ]
  },
  {
   "cell_type": "code",
   "execution_count": 67,
   "id": "2aaeb1e6",
   "metadata": {
    "scrolled": true
   },
   "outputs": [
    {
     "name": "stdout",
     "output_type": "stream",
     "text": [
      "No existe el mes\n"
     ]
    }
   ],
   "source": [
    "month = 5\n",
    "\n",
    "if month == 1:\n",
    "    print(\"Enero\")\n",
    "elif month == 2:\n",
    "    print(\"Febrero\")\n",
    "elif month == 3: \n",
    "    print(\"Marzo\")\n",
    "else:\n",
    "    print(\"No existe el mes\")\n"
   ]
  }
 ],
 "metadata": {
  "kernelspec": {
   "display_name": "Python 3 (ipykernel)",
   "language": "python",
   "name": "python3"
  },
  "language_info": {
   "codemirror_mode": {
    "name": "ipython",
    "version": 3
   },
   "file_extension": ".py",
   "mimetype": "text/x-python",
   "name": "python",
   "nbconvert_exporter": "python",
   "pygments_lexer": "ipython3",
   "version": "3.9.7"
  }
 },
 "nbformat": 4,
 "nbformat_minor": 5
}
